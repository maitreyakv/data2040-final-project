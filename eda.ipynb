{
 "cells": [
  {
   "cell_type": "code",
   "execution_count": 80,
   "metadata": {},
   "outputs": [],
   "source": [
    "import pandas as pd\n",
    "import matplotlib.pyplot as plt\n",
    "import numpy as np\n",
    "import os\n",
    "import glob\n",
    "\n",
    "from data_loader import create_data_loader"
   ]
  },
  {
   "cell_type": "code",
   "execution_count": 2,
   "metadata": {},
   "outputs": [],
   "source": [
    "label_files = [\"../../RatSI_v1.01/annotations/Observation{:02d}.csv\".format(i) for i in range(1, 10)]\n",
    "df = pd.concat([pd.read_csv(f, sep=\";\", index_col=0) for f in label_files], axis=0, ignore_index=True)"
   ]
  },
  {
   "cell_type": "code",
   "execution_count": 3,
   "metadata": {},
   "outputs": [],
   "source": [
    "df[\"label\"] = np.where(df.action == \"Solitary\", 0, 1)"
   ]
  },
  {
   "cell_type": "code",
   "execution_count": 15,
   "metadata": {},
   "outputs": [
    {
     "name": "stdout",
     "output_type": "stream",
     "text": [
      "0    55409\n",
      "1    45859\n",
      "Name: label, dtype: int64\n",
      "0    64257\n",
      "1    37010\n",
      "Name: label, dtype: int64\n"
     ]
    }
   ],
   "source": [
    "counts_train = pd.value_counts(df.label[(len(df) // 2):])\n",
    "counts_valid = pd.value_counts(df.label[:(len(df) // 2)])\n",
    "print(counts_train)\n",
    "print(counts_valid)"
   ]
  },
  {
   "cell_type": "code",
   "execution_count": null,
   "metadata": {},
   "outputs": [],
   "source": [
    "tfrecord_file = \"ratsi_data.tfrecord\"\n",
    "metadata_file = \"ratsi_data.metadata.json\"\n",
    "dataset_train, dataset_valid = create_data_loader(\n",
    "    tfrecord_file,\n",
    "    metadata_file,\n",
    "    valid_size=0.5,\n",
    "    batch_size=1,\n",
    ")\n",
    "\n",
    "itr = dataset_train.as_numpy_iterator()\n",
    "\n",
    "bbox_props = dict(boxstyle=\"round\", fc=\"w\", ec=\"0.5\", alpha=0.9)\n",
    "\n",
    "for i in range(10*25):\n",
    "    fig = plt.figure(frameon=False)\n",
    "    fig.set_size_inches(5,5)\n",
    "    ax = plt.Axes(fig, [0., 0., 1., 1.])\n",
    "    ax.set_axis_off()\n",
    "    fig.add_axes(ax)\n",
    "\n",
    "    img, label = next(itr)\n",
    "    img = ax.imshow(img[0, ...] / 255., cmap=\"Greys_r\", aspect=\"auto\")\n",
    "    ax.text(10, 15, \"Interacting\" if label else \"Solitary\", bbox=bbox_props, size=14)\n",
    "    fig.savefig(\"sample_annot{:03d}.png\".format(i), dpi=200)\n",
    "    \n",
    "os.system(\"convert -delay 4 -loop 0 sample_annot*.png sample_annot.gif\")\n",
    "files = glob.glob(\"./sample_annot*.png\")\n",
    "for f in files:\n",
    "    try:\n",
    "        os.remove(f)\n",
    "    except:\n",
    "        pass"
   ]
  },
  {
   "cell_type": "code",
   "execution_count": 82,
   "metadata": {},
   "outputs": [
    {
     "data": {
      "text/plain": [
       "0         0\n",
       "1         0\n",
       "2         0\n",
       "3         0\n",
       "4         0\n",
       "         ..\n",
       "202530    1\n",
       "202531    1\n",
       "202532    1\n",
       "202533    1\n",
       "202534    1\n",
       "Name: label, Length: 202535, dtype: int64"
      ]
     },
     "execution_count": 82,
     "metadata": {},
     "output_type": "execute_result"
    }
   ],
   "source": [
    "df.label"
   ]
  },
  {
   "cell_type": "code",
   "execution_count": 100,
   "metadata": {},
   "outputs": [
    {
     "data": {
      "image/png": "[encoded data removed]",
      "text/plain": [
       "<Figure size 720x216 with 1 Axes>"
      ]
     },
     "metadata": {
      "needs_background": "light"
     },
     "output_type": "display_data"
    }
   ],
   "source": [
    "plt.figure(figsize=(10,3))\n",
    "plt.plot(np.linspace(0, 2000 / 25, 2000), df.label.iloc[:2000])\n",
    "plt.xlabel(\"Time [s]\")\n",
    "plt.yticks([0, 1], [\"Solitary\", \"Interacting\"])\n",
    "plt.ylim(-0.5, 1.5)\n",
    "plt.xlim(0, 80)\n",
    "plt.tight_layout()\n",
    "plt.savefig(\"sample-label-hist.png\", dpi=500)"
   ]
  },
  {
   "cell_type": "code",
   "execution_count": null,
   "metadata": {},
   "outputs": [],
   "source": []
  }
 ],
 "metadata": {
  "kernelspec": {
   "display_name": "Python 3",
   "language": "python",
   "name": "python3"
  },
  "language_info": {
   "codemirror_mode": {
    "name": "ipython",
    "version": 3
   },
   "file_extension": ".py",
   "mimetype": "text/x-python",
   "name": "python",
   "nbconvert_exporter": "python",
   "pygments_lexer": "ipython3",
   "version": "3.7.6"
  }
 },
 "nbformat": 4,
 "nbformat_minor": 4
}
