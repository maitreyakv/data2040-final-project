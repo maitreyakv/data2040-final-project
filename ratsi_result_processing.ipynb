{
 "cells": [
  {
   "cell_type": "code",
   "execution_count": 1,
   "metadata": {
    "id": "velvet-worthy"
   },
   "outputs": [],
   "source": [
    "# External package imports\n",
    "import glob\n",
    "import os\n",
    "import numpy as np\n",
    "import matplotlib.pyplot as plt\n",
    "import matplotlib.font_manager as font_manager\n",
    "import pickle\n",
    "import json"
   ]
  },
  {
   "cell_type": "code",
   "execution_count": 3,
   "metadata": {
    "id": "hOq0AyfA6Dw7"
   },
   "outputs": [],
   "source": [
    "names = [\n",
    "    \"VGG11\",\n",
    "    \"VGG14\",\n",
    "    \"VGG17\",\n",
    "    \"VGG20\",\n",
    "    \"VGG11-3D\",\n",
    "    \"VGG14-3D\",\n",
    "    \"VGG17-3D\",\n",
    "    \"VGG20-3D\",\n",
    "    \"VGG11-LSTM\",\n",
    "    \"VGG14-LSTM\",\n",
    "    \"VGG17-LSTM\",\n",
    "    \"VGG20-LSTM\",\n",
    "]\n",
    "\n",
    "results = {}\n",
    "\n",
    "for name in names:\n",
    "    with open(f\"../results/{name}_result.dict\", \"rb\") as f:\n",
    "        results[name] = pickle.load(f)"
   ]
  },
  {
   "cell_type": "code",
   "execution_count": 17,
   "metadata": {
    "colab": {
     "base_uri": "https://localhost:8080/",
     "height": 459
    },
    "id": "LTy8OFEx7DYO",
    "outputId": "929dbe46-cfe9-4845-dee6-5941f5a37df6"
   },
   "outputs": [
    {
     "data": {
      "image/png": "[encoded data removed]",
      "text/plain": [
       "<Figure size 432x288 with 1 Axes>"
      ]
     },
     "metadata": {
      "needs_background": "light"
     },
     "output_type": "display_data"
    }
   ],
   "source": [
    "plt.figure()\n",
    "\n",
    "plt.axhline(0.635, ls=\"dashed\", color=\"black\", lw=3, label=\"Baseline\")\n",
    "\n",
    "plt.plot(\n",
    "    [results[name][\"n_parameters\"] for name in [\"VGG11\", \"VGG14\", \"VGG17\", \"VGG20\"]],\n",
    "    [np.amax(results[name][\"history\"][\"val_accuracy\"]) for name in [\"VGG11\", \"VGG14\", \"VGG17\", \"VGG20\"]],\n",
    "    \"--o\", color=\"tab:red\", ms=8, markerfacecolor=\"tab:red\", lw=3,\n",
    "    markeredgewidth=2, label=\"mVGG-2D\"\n",
    ")\n",
    "\n",
    "plt.plot(\n",
    "    [results[name][\"n_parameters\"] for name in [\"VGG11-3D\", \"VGG14-3D\", \"VGG17-3D\", \"VGG20-3D\"]],\n",
    "    [np.amax(results[name][\"history\"][\"val_accuracy\"]) for name in [\"VGG11-3D\", \"VGG14-3D\", \"VGG17-3D\", \"VGG20-3D\"]],\n",
    "    \"--^\", color=\"tab:blue\", ms=8, markerfacecolor=\"tab:blue\", lw=3,\n",
    "    markeredgewidth=2, label=\"mVGG-3D\"\n",
    ")\n",
    "\n",
    "plt.plot(\n",
    "    [results[name][\"n_parameters\"] for name in [\"VGG11-LSTM\", \"VGG14-LSTM\", \"VGG17-LSTM\", \"VGG20-LSTM\"]],\n",
    "    [np.amax(results[name][\"history\"][\"val_accuracy\"]) for name in [\"VGG11-LSTM\", \"VGG14-LSTM\", \"VGG17-LSTM\", \"VGG20-LSTM\"]],\n",
    "    \"--D\", color=\"tab:green\", ms=8, markerfacecolor=\"tab:green\", lw=3,\n",
    "    markeredgewidth=2, label=\"mVGG-LSTM\"\n",
    ")\n",
    "\n",
    "plt.xscale(\"log\")\n",
    "plt.xlim(1e6, 3.5e7)\n",
    "plt.ylim(0.475, 0.825)\n",
    "plt.xlabel(\"Number of Parameters\", fontsize=16, fontfamily=\"Times\")\n",
    "plt.xticks(fontsize=16, fontfamily=\"Times\")\n",
    "plt.ylabel(\"Validation Accuracy\", fontsize=16, fontfamily=\"Times\")\n",
    "plt.yticks(fontsize=16, fontfamily=\"Times\")\n",
    "\n",
    "font = font_manager.FontProperties(family='Times', size=16)\n",
    "plt.legend(prop=font, frameon=False, ncol=2, loc=\"lower center\")\n",
    "\n",
    "annot_params = {\n",
    "    \"xycoords\": \"data\",\n",
    "    \"fontsize\": 16,\n",
    "    \"fontfamily\": \"Times\",\n",
    "    \"ha\": \"center\",\n",
    "    \"va\": \"center\"\n",
    "}\n",
    "\n",
    "\"\"\"\n",
    "plt.annotate(\"11\", (9.5e6, 0.72), **annot_params)\n",
    "plt.annotate(\"14\", (1.5e7, 0.725), **annot_params)\n",
    "plt.annotate(\"17\", (2.2e7, 0.733), **annot_params)\n",
    "plt.annotate(\"20\", (3.2e7, 0.772), **annot_params)\n",
    "\n",
    "plt.annotate(\"11\", (3e6, 0.74), **annot_params)\n",
    "plt.annotate(\"14\", (5e6, 0.742), **annot_params)\n",
    "plt.annotate(\"17\", (8e6, 0.787), **annot_params)\n",
    "plt.annotate(\"20\", (6.7e6, 0.88), **annot_params)\n",
    "\n",
    "plt.annotate(\"11\", (1.1e7, 0.875), **annot_params)\n",
    "\"\"\"\n",
    "\n",
    "plt.tight_layout()\n",
    "plt.savefig(\"ratsi_perf.png\", dpi=500)"
   ]
  },
  {
   "cell_type": "code",
   "execution_count": null,
   "metadata": {
    "id": "V0HJAghj0kyB"
   },
   "outputs": [],
   "source": []
  }
 ],
 "metadata": {
  "colab": {
   "collapsed_sections": [],
   "name": "ratsi_result_processing.ipynb",
   "provenance": []
  },
  "kernelspec": {
   "display_name": "Python 3",
   "language": "python",
   "name": "python3"
  },
  "language_info": {
   "codemirror_mode": {
    "name": "ipython",
    "version": 3
   },
   "file_extension": ".py",
   "mimetype": "text/x-python",
   "name": "python",
   "nbconvert_exporter": "python",
   "pygments_lexer": "ipython3",
   "version": "3.7.6"
  }
 },
 "nbformat": 4,
 "nbformat_minor": 5
}
